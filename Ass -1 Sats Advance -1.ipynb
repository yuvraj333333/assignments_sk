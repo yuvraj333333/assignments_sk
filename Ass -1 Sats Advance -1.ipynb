{
 "cells": [
  {
   "attachments": {},
   "cell_type": "markdown",
   "metadata": {},
   "source": [
    "# Statistics Advance-1"
   ]
  },
  {
   "attachments": {},
   "cell_type": "markdown",
   "metadata": {},
   "source": [
    "#### Assigment Questions"
   ]
  },
  {
   "attachments": {},
   "cell_type": "markdown",
   "metadata": {},
   "source": [
    "Q1.What is Probability Density Function?\n"
   ]
  },
  {
   "attachments": {},
   "cell_type": "markdown",
   "metadata": {},
   "source": [
    "Ans:\n",
    "The Probability Density Function (PDF) is a concept in probability theory that describes the likelihood of a continuous random variable taking a particular value. In other words, the PDF is a function that maps the possible outcomes of a random variable to their associated probabilities.\n",
    "\n",
    "The PDF is used to describe the distribution of a continuous random variable. It provides a way to calculate the probability of the random variable taking any value within a given range.\n",
    "\n",
    "Mathematically, the PDF is the derivative of the Cumulative Distribution Function (CDF) of the continuous random variable. The CDF gives the probability that the random variable is less than or equal to a certain value, while the PDF gives the probability that the random variable takes on a specific value.\n",
    "\n",
    "The PDF has the following properties:\n",
    "\n",
    "The integral of the PDF over the entire range of the random variable is equal to 1.\n",
    "The PDF is always non-negative.\n",
    "The PDF is commonly used in statistical analysis, machine learning, and other fields that deal with probability theory. It is used to model and analyze real-world phenomena such as stock prices, weather patterns, and medical conditions.\n",
    "\n",
    "For example, the PDF can be used to model the distribution of heights of a certain population. The PDF would describe the probability of any individual in the population having a specific height within a given range."
   ]
  },
  {
   "cell_type": "markdown",
   "metadata": {},
   "source": []
  },
  {
   "attachments": {},
   "cell_type": "markdown",
   "metadata": {},
   "source": [
    "Q2.What are the types of Probability Distribution?"
   ]
  },
  {
   "attachments": {},
   "cell_type": "markdown",
   "metadata": {},
   "source": [
    "There are several types of probability distributions in statistics, including:\n",
    "\n",
    "Discrete Probability Distribution: This type of distribution is used to model the probability of discrete outcomes, where the values of the random variable can only take on specific values. Examples of discrete distributions include the Bernoulli distribution, Binomial distribution, Poisson distribution, etc.\n",
    "\n",
    "Continuous Probability Distribution: This type of distribution is used to model the probability of continuous outcomes, where the values of the random variable can take on any value within a given range. Examples of continuous distributions include the Normal distribution, Uniform distribution, Exponential distribution, etc.\n",
    "\n",
    "Binomial Probability Distribution: This distribution is used to model the number of successes in a fixed number of independent trials with a constant probability of success. It is a discrete distribution.\n",
    "\n",
    "Poisson Probability Distribution: This distribution is used to model the number of occurrences of an event in a fixed time or space interval. It is a discrete distribution.\n",
    "\n",
    "Normal Probability Distribution: This distribution is used to model continuous random variables that are symmetrical around a mean value, and have a bell-shaped curve. It is a continuous distribution.\n",
    "\n",
    "Exponential Probability Distribution: This distribution is used to model the time between events that occur randomly and independently of each other. It is a continuous distribution."
   ]
  },
  {
   "cell_type": "markdown",
   "metadata": {},
   "source": []
  },
  {
   "attachments": {},
   "cell_type": "markdown",
   "metadata": {},
   "source": [
    "Q3. Write a Python function to calculate the probability density function of a normal distribution with\n",
    "given mean and standard deviation at a given point."
   ]
  },
  {
   "cell_type": "code",
   "execution_count": null,
   "metadata": {},
   "outputs": [],
   "source": [
    "import math\n",
    "\n",
    "def normal_pdf(x, mean, std_dev):\n",
    "    \"\"\"\n",
    "    Calculates the probability density function of a normal distribution\n",
    "    with the given mean and standard deviation at a given point x.\n",
    "    \"\"\"\n",
    "    exponent = -1/2 * ((x - mean) / std_dev) ** 2\n",
    "    coeff = 1 / (std_dev * math.sqrt(2 * math.pi))\n",
    "    pdf = coeff * math.exp(exponent)\n",
    "    return pdf\n"
   ]
  },
  {
   "attachments": {},
   "cell_type": "markdown",
   "metadata": {},
   "source": [
    "In this function, x is the point at which we want to evaluate the PDF, mean is the mean of the normal distribution, and std_dev is the standard deviation of the normal distribution.\n",
    "\n",
    "The function first calculates the exponent of the normal distribution's PDF formula, which is -1/2 * ((x - mean) / std_dev) ** 2. It then calculates the coefficient of the PDF formula, which is 1 / (std_dev * math.sqrt(2 * math.pi)). Finally, it multiplies the exponent by the coefficient to get the PDF value and returns it.\n",
    "\n",
    "You can use this function to calculate the PDF of a normal distribution at a given point by passing in the appropriate values for x, mean, and std_dev. For example:"
   ]
  },
  {
   "cell_type": "code",
   "execution_count": null,
   "metadata": {},
   "outputs": [],
   "source": [
    "pdf_value = normal_pdf(2, 0, 1)\n",
    "print(pdf_value)"
   ]
  },
  {
   "attachments": {},
   "cell_type": "markdown",
   "metadata": {},
   "source": [
    "This would calculate the PDF of a standard normal distribution at x=2, which is 0.05399096651318806."
   ]
  },
  {
   "attachments": {},
   "cell_type": "markdown",
   "metadata": {},
   "source": [
    "Q4. What are the properties of Binomial distribution? Give two examples of events where binomial\n",
    "distribution can be applied."
   ]
  },
  {
   "attachments": {},
   "cell_type": "markdown",
   "metadata": {},
   "source": [
    "\n",
    "The properties of Binomial distribution are:\n",
    "\n",
    "The number of trials n is fixed.\n",
    "Each trial is independent of each other.\n",
    "The probability of success p is constant for each trial.\n",
    "The random variable X represents the number of successes in n trials.\n",
    "The random variable X can only take on integer values from 0 to n.\n",
    "The distribution is symmetric if p = 0.5.\n",
    "The mean of the distribution is np.\n",
    "The variance of the distribution is np(1-p).\n",
    "The shape of the distribution depends on the values of n and p.\n",
    "Two examples of events where binomial distribution can be applied are:\n",
    "\n",
    "Flipping a coin: If we flip a fair coin (i.e., the probability of getting heads or tails is 0.5) 10 times, the number of times we get heads can be modeled using a binomial distribution with n=10 and p=0.5. The random variable X represents the number of heads we get in 10 flips.\n",
    "\n",
    "Quality control: A factory produces light bulbs, and the probability that a bulb is defective is 0.01. If we randomly select 100 bulbs from the factory and test them, the number of defective bulbs can be modeled using a binomial distribution with n=100 and p=0.01. The random variable X represents the number of defective bulbs we find in the sample. This distribution can be used to determine whether the factory's quality control process is effective or not."
   ]
  },
  {
   "cell_type": "markdown",
   "metadata": {},
   "source": []
  },
  {
   "attachments": {},
   "cell_type": "markdown",
   "metadata": {},
   "source": [
    "Q5. Generate a random sample of size 1000 from a binomial distribution with probability of success 0.4\n",
    "and plot a histogram of the results using matplotlib."
   ]
  },
  {
   "cell_type": "code",
   "execution_count": 1,
   "metadata": {},
   "outputs": [
    {
     "data": {
      "image/png": "[encoded data removed]",
      "text/plain": [
       "<Figure size 640x480 with 1 Axes>"
      ]
     },
     "metadata": {},
     "output_type": "display_data"
    }
   ],
   "source": [
    "import numpy as np\n",
    "import matplotlib.pyplot as plt\n",
    "\n",
    "# Set the parameters\n",
    "n=10\n",
    "p=0.4\n",
    "size=1000\n",
    "\n",
    "# Generate a random sample from the binomail distribution\n",
    "sample = np.random.binomial(n,p,size)\n",
    "\n",
    "# Plot a histogram of the results\n",
    "plt.hist(sample,bins=range(n+2),align='left',rwidth=0.8,density=True)\n",
    "plt.xlabel(\"Number of successes\")\n",
    "plt.ylabel(\"Probability density\")\n",
    "plt.title(f\"Binomail distribution with n={n},p={p} and size ={size}\")\n",
    "plt.show()"
   ]
  },
  {
   "attachments": {},
   "cell_type": "markdown",
   "metadata": {},
   "source": [
    "Q6. Write a Python function to calculate the cumulative distribution function of a Poisson distribution\n",
    "with given mean at a given point."
   ]
  },
  {
   "cell_type": "code",
   "execution_count": 16,
   "metadata": {},
   "outputs": [],
   "source": [
    "import math\n",
    "\n",
    "def poisson_cdf(mean, point):\n",
    "    cdf = 0.0\n",
    "    for i in range(point + 1):\n",
    "        cdf += math.exp(-mean) * (mean ** i) / math.factorial(i)\n",
    "    return cdf\n",
    "\n",
    "\n",
    "# The poisson_cdf function takes two arguments: mean, which is the mean of the Poisson distribution, and point, which is the point at which we want to calculate the CDF. The function then calculates the CDF using the formula:"
   ]
  },
  {
   "attachments": {},
   "cell_type": "markdown",
   "metadata": {},
   "source": [
    "Q7. How Binomial distribution different from Poisson distribution?\n"
   ]
  },
  {
   "attachments": {},
   "cell_type": "markdown",
   "metadata": {},
   "source": [
    "- The binomial distribution models the number of successes in a fixed number of independent trials, while the Poisson distribution models the number of occurrences in a fixed interval of time or space.\n",
    "- The binomial distribution has two parameters: the number of trials and the probability of success in each trial, while the Poisson distribution has one parameter: the average rate of occurrence.\n",
    " - The binomial distribution is discrete and can only take on integer values, while the Poisson distribution is also discrete but can take on any non-negative integer value."
   ]
  },
  {
   "attachments": {},
   "cell_type": "markdown",
   "metadata": {},
   "source": [
    "Q8. Generate a random sample of size 1000 from a Poisson distribution with mean 5 and calculate the\n",
    "sample mean and variance."
   ]
  },
  {
   "cell_type": "code",
   "execution_count": 20,
   "metadata": {},
   "outputs": [
    {
     "name": "stdout",
     "output_type": "stream",
     "text": [
      "Sample mean: 4.995\n",
      "Sample Variance: 4.909884884884885\n"
     ]
    }
   ],
   "source": [
    "import numpy as np\n",
    "\n",
    "# Set the mean and sample size\n",
    "mean=5\n",
    "sample_size=1000\n",
    "\n",
    "# Generate a random sample from the poisson distribution\n",
    "sample = np.random.poisson(mean,sample_size)\n",
    "\n",
    "# Calculate the sample mean and variance\n",
    "sample_mean=np.mean(sample)\n",
    "sample_variance=np.var(sample,ddof=1)\n",
    "\n",
    "# Print the results\n",
    "print(\"Sample mean:\",sample_mean)\n",
    "print(\"Sample Variance:\",sample_variance)\n",
    "\n",
    "# The numpy library is used to generate a random sample from the Poisson distribution using the numpy.random.poisson function. The mean parameter is set to 5, and the sample_size parameter is set to 1000.\n",
    "\n",
    "# The numpy.mean function is used to calculate the sample mean, and the numpy.var function with ddof=1 is used to calculate the sample variance (using Bessel's correction for an unbiased estimator).\n"
   ]
  },
  {
   "attachments": {},
   "cell_type": "markdown",
   "metadata": {},
   "source": [
    "Q9. How mean and variance are related in Binomial distribution and Poisson distribution?"
   ]
  },
  {
   "attachments": {},
   "cell_type": "markdown",
   "metadata": {},
   "source": [
    "- In the binomial distribution, the mean and variance are related as follows:\n",
    "\n",
    "    - Mean = n * p\n",
    "    Variance = n * p * (1 - p)\n",
    "\n",
    "- where n is the number of trials and p is the probability of success in each trial.\n",
    "\n",
    "- In the Poisson distribution, the mean and variance are also related:\n",
    "\n",
    "- mathematica\n",
    "\n",
    "    - Mean = Variance = lambda\n",
    "where lambda is the average rate of occurrence.\n",
    "\n",
    "- So in both the binomial and Poisson distributions, the mean and variance are directly related. In the binomial distribution, the variance increases as p moves away from 0.5 (i.e., becomes more skewed), while in the Poisson distribution, the variance is always equal to the mean regardless of the value of lambda."
   ]
  },
  {
   "cell_type": "markdown",
   "metadata": {},
   "source": []
  },
  {
   "attachments": {},
   "cell_type": "markdown",
   "metadata": {},
   "source": [
    "Q10. In normal distribution with respect to mean position, where does the least frequent data appear?"
   ]
  },
  {
   "attachments": {},
   "cell_type": "markdown",
   "metadata": {},
   "source": [
    "In a normal distribution, the least frequent data appears in the tails of the distribution, which are the regions farthest away from the mean. Specifically, the least frequent data appears in the regions that are more than two standard deviations away from the mean.\n",
    "\n",
    "This is because the normal distribution is symmetric and bell-shaped, and the probability density is highest at the mean and decreases as you move away from the mean in either direction. So the tails of the distribution contain the least amount of data and have the lowest probability density.\n",
    "\n",
    "For example, if the mean of a normal distribution is 10 and the standard deviation is 2, the least frequent data would appear in the regions below 6 or above 14, which are two standard deviations away from the mean."
   ]
  }
 ],
 "metadata": {
  "kernelspec": {
   "display_name": "Python 3",
   "language": "python",
   "name": "python3"
  },
  "language_info": {
   "codemirror_mode": {
    "name": "ipython",
    "version": 3
   },
   "file_extension": ".py",
   "mimetype": "text/x-python",
   "name": "python",
   "nbconvert_exporter": "python",
   "pygments_lexer": "ipython3",
   "version": "3.11.2"
  },
  "orig_nbformat": 4
 },
 "nbformat": 4,
 "nbformat_minor": 2
}
