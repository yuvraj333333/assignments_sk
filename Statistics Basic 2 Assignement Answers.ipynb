{
 "cells": [
  {
   "cell_type": "markdown",
   "metadata": {},
   "source": [
    "# Statistics Basic - 2"
   ]
  },
  {
   "attachments": {},
   "cell_type": "markdown",
   "metadata": {},
   "source": [
    "Q1. What are the three measures of central tendency?"
   ]
  },
  {
   "attachments": {},
   "cell_type": "markdown",
   "metadata": {},
   "source": [
    "- Mean\n",
    "- Median\n",
    "- Mode"
   ]
  },
  {
   "attachments": {},
   "cell_type": "markdown",
   "metadata": {},
   "source": [
    "Q2. What is the difference between the mean, median, and mode? How are they used to measure the\n",
    "central tendency of a dataset?"
   ]
  },
  {
   "attachments": {},
   "cell_type": "markdown",
   "metadata": {},
   "source": [
    "- The mean is the arithmetic average of all the values in the dataset, \n",
    "- while the median is the middle value when the data is arranged in order.\n",
    "- The mode is the most frequently occurring value in the dataset. "
   ]
  },
  {
   "attachments": {},
   "cell_type": "markdown",
   "metadata": {},
   "source": [
    "Q3. Measure the three measures of central tendency for the given height data:\n",
    "\n",
    "[178,177,176,177,178.2,178,175,179,180,175,178.9,176.2,177,172.5,178,176.5]"
   ]
  },
  {
   "cell_type": "code",
   "execution_count": 11,
   "metadata": {},
   "outputs": [
    {
     "name": "stdout",
     "output_type": "stream",
     "text": [
      "Mean: 0    177.01875\n",
      "dtype: float64\n",
      "Median: 0    177.0\n",
      "dtype: float64\n",
      "Mode:        0\n",
      "0  177.0\n",
      "1  178.0\n"
     ]
    }
   ],
   "source": [
    "import pandas as pd\n",
    "a=[178,177,176,177,178.2,178,175,179,180,175,178.9,176.2,177,172.5,178,176.5]\n",
    "df=pd.DataFrame(a)\n",
    "print(\"Mean:\",df.mean())\n",
    "print(\"Median:\",df.median())\n",
    "print(\"Mode:\",df.mode())\n"
   ]
  },
  {
   "attachments": {},
   "cell_type": "markdown",
   "metadata": {},
   "source": [
    "Q4. Find the standard deviation for the given data:\n",
    "\n",
    "[178,177,176,177,178.2,178,175,179,180,175,178.9,176.2,177,172.5,178,176.5]"
   ]
  },
  {
   "cell_type": "code",
   "execution_count": 12,
   "metadata": {},
   "outputs": [
    {
     "data": {
      "text/plain": [
       "0    1.847239\n",
       "dtype: float64"
      ]
     },
     "execution_count": 12,
     "metadata": {},
     "output_type": "execute_result"
    }
   ],
   "source": [
    "sd=[178,177,176,177,178.2,178,175,179,180,175,178.9,176.2,177,172.5,178,176.5]\n",
    "df=pd.DataFrame(sd)\n",
    "df.std()"
   ]
  },
  {
   "attachments": {},
   "cell_type": "markdown",
   "metadata": {},
   "source": [
    "Q5. How are measures of dispersion such as range, variance, and standard deviation used to describe\n",
    "the spread of a dataset? Provide an example."
   ]
  },
  {
   "attachments": {},
   "cell_type": "markdown",
   "metadata": {},
   "source": [
    "- Measures of dispersion such as range, variance, and standard deviation are used to describe how much the values in a dataset vary from each other.\n",
    "- They provide a sense of how spread out the data is and how much it deviates from the average or central value.\n",
    "\n",
    "- The range is the simplest measure of dispersion, and it represents the difference between the maximum and minimum values in a dataset. For example, if we have a dataset of the heights of ten people, with the minimum value being 160 cm and the maximum value being 190 cm, the range would be 30 cm.\n",
    "\n",
    "- Variance measures how much the individual values in a dataset deviate from the mean, and it is calculated by taking the average of the squared differences between each value and the mean.\n",
    "\n",
    "- Standard deviation is the square root of the variance and is a more intuitive measure since it is in the same units as the original data. The standard deviation represents the average deviation of each value from the mean.\n",
    "\n",
    "For example, let's consider a dataset of the ages of a group of people: 25, 30, 35, 40, 45. The mean age is 35, and the variance is 50, which means that on average, each value deviates from the mean by 7.07 (square root of 50). The standard deviation is also 7.07, which indicates that the ages are fairly spread out, with each age differing from the mean by an average of 7 years.\n",
    "\n"
   ]
  },
  {
   "cell_type": "markdown",
   "metadata": {},
   "source": []
  },
  {
   "attachments": {},
   "cell_type": "markdown",
   "metadata": {},
   "source": [
    "Q6. What is a Venn diagram?"
   ]
  },
  {
   "attachments": {},
   "cell_type": "markdown",
   "metadata": {},
   "source": [
    "A Venn diagram is a graphical representation of the relationships between different sets of items. It is usually drawn as overlapping circles or ovals, with each circle representing a set and the overlapping regions representing the intersection of the sets. The Venn diagram is commonly used in mathematics, logic, statistics, and other fields to illustrate relationships and set operations, such as union, intersection, and complement."
   ]
  },
  {
   "attachments": {},
   "cell_type": "markdown",
   "metadata": {},
   "source": [
    "Q7. For the two given sets A = (2,3,4,5,6,7) & B = (0,2,6,8,10). Find:\n",
    "\n",
    "(i) A Intersection B\n",
    "\n",
    "(ii) A Union B"
   ]
  },
  {
   "cell_type": "code",
   "execution_count": 24,
   "metadata": {},
   "outputs": [
    {
     "name": "stdout",
     "output_type": "stream",
     "text": [
      "Intersection {2, 6}\n",
      "Union {0, 2, 3, 4, 5, 6, 7, 8, 10}\n"
     ]
    }
   ],
   "source": [
    "#Define the sets A and B\n",
    "A = {2, 3, 4, 5, 6, 7}\n",
    "B = {0, 2, 6, 8, 10}\n",
    "\n",
    "print(\"Intersection\",A.intersection(B))\n",
    "print(\"Union\",A.union(B))"
   ]
  },
  {
   "attachments": {},
   "cell_type": "markdown",
   "metadata": {},
   "source": [
    "\n",
    "Q8. What do you understand about skewness in data?\n",
    "Ans:\n",
    "\n",
    "- Skewnewss measures the degree to which the data deviate from a normal distribution, which is symmetric.\n",
    "- If the data are skewed, it means that they are not evenly distributed around the mean, and there are more data points on one side of the mean than the other. \n",
    "- Skewness can be positive, negative, or zero, depending on the direction of the asymmetry.\n",
    "- Positive skewness means that the tail of the distribution is longer on the right side, - negative skewness means that the tail is longer on the left side, \n",
    "- and zero skewness means that the distribution is symmetric. "
   ]
  },
  {
   "attachments": {},
   "cell_type": "markdown",
   "metadata": {},
   "source": [
    "Q9. If a data is right skewed then what will be the position of median with respect to mean?\n"
   ]
  },
  {
   "attachments": {},
   "cell_type": "markdown",
   "metadata": {},
   "source": [
    "If a dataset is right-skewed, it means that it has a long tail on the right-hand side of the distribution. In other words, there are more data points with high values than with low values. In this case, the mean of the dataset will be shifted towards the right due to the influence of the extreme values in the tail. As a result, the mean will be greater than the median, which is the value that separates the dataset into two equal halves.\n",
    "\n",
    "Therefore, in a right-skewed distribution, the median will be located to the left of the mean. The greater the skewness, the farther apart the mean and median will be. The median is less affected by extreme values than the mean, which makes it a better measure of central tendency in skewed distributions."
   ]
  },
  {
   "attachments": {},
   "cell_type": "markdown",
   "metadata": {},
   "source": [
    "Q10. Explain the difference between covariance and correlation. How are these measures used in\n",
    "statistical analysis?\n",
    "Ans:\n",
    "    Covariance and correlation are both measures of the relationship between two variables in a dataset.\n",
    "    Covariance measures the degree to which two variables vary together. It can be positive (the variables move in the same direction), negative (the variables move in opposite directions), or zero (there is no relationship between the variables).\n",
    "    The formula for covariance is: cov(X,Y) = E[(X - E[X])(Y - E[Y])], where X and Y are the two variables, and E[X] and E[Y] are their expected values.\n",
    "    The value of covariance depends on the units of measurement of the variables, which makes it difficult to compare the strength of the relationship between variables with different scales.\n",
    "    Correlation measures the strength and direction of the linear relationship between two variables. It ranges from -1 (perfect negative correlation) to 1 (perfect positive correlation), with 0 indicating no correlation.\n",
    "    The formula for correlation is: corr(X,Y) = cov(X,Y) / (std(X) * std(Y)), where std(X) and std(Y) are the standard deviations of X and Y, respectively.\n",
    "    Unlike covariance, correlation is unitless, which makes it easier to compare the strength of the relationship between variables with different scales.\n",
    "    Correlation is often preferred over covariance in statistical analysis because it is a standardized measure that is easier to interpret and compare.\n",
    "    Correlation does not imply causation, and a strong correlation between two variables may be due to a third variable that influences both.\n",
    "    Correlation and covariance are used in a variety of statistical analysis techniques, such as regression analysis, factor analysis, and principal component analysis, to identify and quantify relationships between variables."
   ]
  },
  {
   "attachments": {},
   "cell_type": "markdown",
   "metadata": {},
   "source": [
    "Q11. What is the formula for calculating the sample mean? Provide an example calculation for a\n",
    "dataset.\n",
    "\n",
    "Ans:\n",
    "The formula for calculating the sample mean is:\n",
    "\n",
    "Sample Mean = (Sum of all values in the sample) / (Number of values in the sample)\n",
    "\n",
    "For example, suppose we have a sample of 10 test scores:\n",
    "\n",
    "65, 78, 85, 92, 70, 73, 89, 82, 79, 88\n",
    "\n",
    "To calculate the sample mean, we first add up all the values:\n",
    "\n",
    "65 + 78 + 85 + 92 + 70 + 73 + 89 + 82 + 79 + 88 = 791\n",
    "\n",
    "Next, we divide the sum by the number of values in the sample, which is 10:\n",
    "\n",
    "Sample Mean = 791 / 10 = 79.1\n",
    "\n",
    "Therefore, the sample mean for this dataset is 79.1."
   ]
  },
  {
   "attachments": {},
   "cell_type": "markdown",
   "metadata": {},
   "source": [
    "Q12. For a normal distribution data what is the relationship between its measure of central tendency?\n",
    "Ans:\n",
    "For a normal distribution, the three measures of central tendency - the mean, median, and mode - are all equal to each other. This is because the normal distribution is symmetric around its mean, and the mean is the point of highest density in the distribution.\n",
    "\n",
    "The mean is the arithmetic average of all the values in the dataset, while the median is the middle value when the data is arranged in order. The mode is the most frequently occurring value in the dataset. In a normal distribution, the mean, median, and mode are all located at the center of the distribution.\n",
    "\n",
    "This relationship between the measures of central tendency in a normal distribution is one of the reasons why the normal distribution is such an important distribution in statistics. It allows us to use any of the three measures interchangeably to describe the center of the distribution. Additionally, the normal distribution has many other useful properties, such as the empirical rule, which provides a quick way to estimate the percentage of data within a certain number of standard deviations from the mean."
   ]
  },
  {
   "attachments": {},
   "cell_type": "markdown",
   "metadata": {},
   "source": [
    "Q13. How is covariance different from correlation?\n",
    "    - Covariance is a measure of the relationship between two variables. It measures how much two variables change together. If the covariance is positive, it means the two variables tend to increase or decrease together. If it is negative, it means that as one variable increases, the other tends to decrease.\n",
    "\n",
    "    - Correlation is also a measure of the relationship between two variables. It measures the strength and direction of a linear relationship between two variables. Correlation ranges from -1 to 1, where -1 indicates a perfect negative correlation, 1 indicates a perfect positive correlation, and 0 indicates no correlation.\n",
    "    - Covariance is affected by the units of the variables being measured, which makes it difficult to compare the strength of the relationship between variables with different units of measurement.\n",
    "    - Correlation, on the other hand, is a standardized measure that is not affected by the units of measurement of the variables. This makes it easier to compare the strength of the relationship between variables with different units of measurement.\n",
    "    - Covariance is a raw measure that does not provide any information about the strength of the relationship between variables. Correlation, on the other hand, provides a clear indication of the strength and direction of the relationship between variables.\n",
    "    - Covariance can take on any value, while correlation is always between -1 and 1. This makes correlation more interpretable and easier to use in statistical analysis."
   ]
  },
  {
   "attachments": {},
   "cell_type": "markdown",
   "metadata": {},
   "source": [
    "Q14. How do outliers affect measures of central tendency and dispersion? Provide an example."
   ]
  },
  {
   "attachments": {},
   "cell_type": "markdown",
   "metadata": {},
   "source": [
    "- Measures of central tendency: Outliers can affect measures of central tendency such as the mean, median, and mode. For example, if there is an extremely high or low value in the dataset, the mean can be pulled in the direction of the outlier, making it an inaccurate representation of the central tendency of the dataset. The median, on the other hand, is less affected by outliers because it is based on the middle value of the dataset. The mode can also be affected by outliers, especially in small datasets.\n",
    "\n",
    "- Measures of dispersion: Outliers can also affect measures of dispersion such as the range, variance, and standard deviation. For example, if there is an outlier in a dataset, the range will be larger, making it appear that the data is more spread out than it actually is. The variance and standard deviation are also affected by outliers because they are based on the deviation of each value from the mean. An outlier that is far away from the mean can increase the variance and standard deviation, making it appear that the data is more spread out than it actually is.\n",
    "\n",
    "Here's an example: Let's say we have a dataset of 10 test scores:\n",
    "\n",
    "60, 70, 75, 80, 85, 90, 95, 100, 105, 110\n",
    "\n",
    "The mean of this dataset is 85, and the standard deviation is approximately 18.5. However, if we add an outlier of 150 to the dataset, the mean jumps up to 95 and the standard deviation increases to approximately 33. This is because the outlier has a large effect on the mean and the deviation of each value from the mean.\n",
    "\n",
    "In summary, outliers can have a significant impact on measures of central tendency and dispersion, and it's important to be aware of their presence when analyzing data."
   ]
  }
 ],
 "metadata": {
  "kernelspec": {
   "display_name": "Python 3",
   "language": "python",
   "name": "python3"
  },
  "language_info": {
   "codemirror_mode": {
    "name": "ipython",
    "version": 3
   },
   "file_extension": ".py",
   "mimetype": "text/x-python",
   "name": "python",
   "nbconvert_exporter": "python",
   "pygments_lexer": "ipython3",
   "version": "3.11.2"
  },
  "orig_nbformat": 4
 },
 "nbformat": 4,
 "nbformat_minor": 2
}
